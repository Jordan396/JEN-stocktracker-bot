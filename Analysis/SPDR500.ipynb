{
 "cells": [
  {
   "cell_type": "markdown",
   "metadata": {},
   "source": [
    "#### This notebook was used to analyze the SPDR500 stock prices dataset."
   ]
  },
  {
   "cell_type": "markdown",
   "metadata": {},
   "source": [
    "## Import Modules and Dataset"
   ]
  },
  {
   "cell_type": "code",
   "execution_count": 4,
   "metadata": {},
   "outputs": [],
   "source": [
    "import json\n",
    "# from pprint import pprint\n",
    "import pandas as pd\n",
    "import numpy as np\n",
    "import matplotlib.pyplot as plt"
   ]
  },
  {
   "cell_type": "code",
   "execution_count": 5,
   "metadata": {},
   "outputs": [],
   "source": [
    "with open(\"SPY-2018-12-07-full.json\") as f:\n",
    "    data = json.load(f)"
   ]
  },
  {
   "cell_type": "code",
   "execution_count": 6,
   "metadata": {},
   "outputs": [],
   "source": [
    "# pprint (data)"
   ]
  },
  {
   "cell_type": "markdown",
   "metadata": {},
   "source": [
    "## Moving Average Calculations"
   ]
  },
  {
   "cell_type": "code",
   "execution_count": 7,
   "metadata": {},
   "outputs": [],
   "source": [
    "Date, aClose = [],[]"
   ]
  },
  {
   "cell_type": "code",
   "execution_count": 8,
   "metadata": {},
   "outputs": [],
   "source": [
    "for key, value in data['Time Series (Daily)'].items():\n",
    "    Date.append(key)\n",
    "    aClose.append(float(value['5. adjusted close']))"
   ]
  },
  {
   "cell_type": "code",
   "execution_count": 9,
   "metadata": {},
   "outputs": [
    {
     "data": {
      "text/plain": [
       "'\\n\\n# DEPRECATED: Calculates 3 day moving averages for entire list\\n\\ndef threeDayMovingAverageCalculator(closingPriceList):\\n    \\n    # Accepts list of closing prices, with the earliest date first.\\n    # List must contain at least 3 elements.\\n    \\n    threeDayMovingAverage = []\\n    for i in range(len(closingPriceList)-2):\\n        threeDayMA = ((float(closingPriceList[i]) + float(closingPriceList[i+1]) + float(closingPriceList[i+2]))/3)\\n        threeDayMovingAverage.append(threeDayMA)\\n    threeDayMovingAverage.append(0)\\n    threeDayMovingAverage.append(0)\\n    return threeDayMovingAverage\\n    \\n'"
      ]
     },
     "execution_count": 9,
     "metadata": {},
     "output_type": "execute_result"
    }
   ],
   "source": [
    "'''\n",
    "\n",
    "# DEPRECATED: Calculates 3 day moving averages for entire list\n",
    "\n",
    "def threeDayMovingAverageCalculator(closingPriceList):\n",
    "    \n",
    "    # Accepts list of closing prices, with the earliest date first.\n",
    "    # List must contain at least 3 elements.\n",
    "    \n",
    "    threeDayMovingAverage = []\n",
    "    for i in range(len(closingPriceList)-2):\n",
    "        threeDayMA = ((float(closingPriceList[i]) + float(closingPriceList[i+1]) + float(closingPriceList[i+2]))/3)\n",
    "        threeDayMovingAverage.append(threeDayMA)\n",
    "    threeDayMovingAverage.append(0)\n",
    "    threeDayMovingAverage.append(0)\n",
    "    return threeDayMovingAverage\n",
    "    \n",
    "'''"
   ]
  },
  {
   "cell_type": "code",
   "execution_count": 10,
   "metadata": {},
   "outputs": [
    {
     "data": {
      "text/plain": [
       "\"\\n\\n# DEPRECATED\\n\\ndf1 = pd.DataFrame(\\n    {'Date': Date,\\n     'Open': Open,\\n     'High': High,\\n     'Low': Low,\\n     'Close': Close,\\n     'Volume': Volume,\\n     '3DMA': threeDayMovingAverage\\n    })\\n    \\ndf1.drop(df1.index[len(df1)-2:], inplace=True)\\ndf1 = df1.iloc[::-1]\\ndf1.plot(x = 'Date', y = '3DMA')\\n\\n\""
      ]
     },
     "execution_count": 10,
     "metadata": {},
     "output_type": "execute_result"
    }
   ],
   "source": [
    "'''\n",
    "\n",
    "# DEPRECATED\n",
    "\n",
    "df1 = pd.DataFrame(\n",
    "    {'Date': Date,\n",
    "     'Open': Open,\n",
    "     'High': High,\n",
    "     'Low': Low,\n",
    "     'Close': Close,\n",
    "     'Volume': Volume,\n",
    "     '3DMA': threeDayMovingAverage\n",
    "    })\n",
    "    \n",
    "df1.drop(df1.index[len(df1)-2:], inplace=True)\n",
    "df1 = df1.iloc[::-1]\n",
    "df1.plot(x = 'Date', y = '3DMA')\n",
    "\n",
    "'''"
   ]
  },
  {
   "cell_type": "code",
   "execution_count": 11,
   "metadata": {},
   "outputs": [],
   "source": [
    "def calculateLatestThreeDayMA(closingPricesList):\n",
    "    return (closingPricesList[0]+closingPricesList[1]+closingPricesList[2])/3"
   ]
  },
  {
   "cell_type": "code",
   "execution_count": 12,
   "metadata": {},
   "outputs": [],
   "source": [
    "threeDayMovingAverage = calculateLatestThreeDayMA(aClose)"
   ]
  },
  {
   "cell_type": "code",
   "execution_count": 13,
   "metadata": {},
   "outputs": [],
   "source": [
    "def calculateLatestFifteenDayMA(closingPricesList):\n",
    "    fifteenDayMovingAverage = 0\n",
    "    for i in range(3, 18):\n",
    "        fifteenDayMovingAverage = fifteenDayMovingAverage + closingPricesList[i]\n",
    "    fifteenDayMovingAverage = fifteenDayMovingAverage/15\n",
    "    return fifteenDayMovingAverage"
   ]
  },
  {
   "cell_type": "code",
   "execution_count": 14,
   "metadata": {},
   "outputs": [],
   "source": [
    "fifteenDayMovingAverage = calculateLatestFifteenDayMA(aClose)"
   ]
  },
  {
   "cell_type": "code",
   "execution_count": 15,
   "metadata": {},
   "outputs": [],
   "source": [
    "def calculatePercentChange(oldValue, newValue):\n",
    "    return (((newValue - oldValue)/oldValue)*100)"
   ]
  },
  {
   "cell_type": "code",
   "execution_count": 16,
   "metadata": {},
   "outputs": [],
   "source": [
    "percentageChange = calculatePercentChange(fifteenDayMovingAverage, threeDayMovingAverage)"
   ]
  },
  {
   "cell_type": "code",
   "execution_count": 17,
   "metadata": {},
   "outputs": [
    {
     "data": {
      "text/plain": [
       "0.8867405083551873"
      ]
     },
     "execution_count": 17,
     "metadata": {},
     "output_type": "execute_result"
    }
   ],
   "source": [
    "percentageChange"
   ]
  },
  {
   "cell_type": "markdown",
   "metadata": {},
   "source": [
    "## Analysis of Results"
   ]
  },
  {
   "cell_type": "code",
   "execution_count": 18,
   "metadata": {},
   "outputs": [],
   "source": [
    "percentageChangesList = []"
   ]
  },
  {
   "cell_type": "code",
   "execution_count": 19,
   "metadata": {},
   "outputs": [],
   "source": [
    "for i in range(len(Date)-18):\n",
    "    threeDayMovingAverage = calculateLatestThreeDayMA(aClose)\n",
    "    fifteenDayMovingAverage = calculateLatestFifteenDayMA(aClose)\n",
    "    percentageChange = calculatePercentChange(fifteenDayMovingAverage, threeDayMovingAverage)\n",
    "    percentageChangesList.append(percentageChange)\n",
    "    del aClose[0]"
   ]
  },
  {
   "cell_type": "code",
   "execution_count": 20,
   "metadata": {},
   "outputs": [
    {
     "data": {
      "text/plain": [
       "5249"
      ]
     },
     "execution_count": 20,
     "metadata": {},
     "output_type": "execute_result"
    }
   ],
   "source": [
    "len(percentageChangesList)"
   ]
  },
  {
   "cell_type": "code",
   "execution_count": 21,
   "metadata": {},
   "outputs": [
    {
     "data": {
      "text/plain": [
       "5267"
      ]
     },
     "execution_count": 21,
     "metadata": {},
     "output_type": "execute_result"
    }
   ],
   "source": [
    "len(Date)"
   ]
  },
  {
   "cell_type": "code",
   "execution_count": 22,
   "metadata": {},
   "outputs": [],
   "source": [
    "Date = Date[:-18]"
   ]
  },
  {
   "cell_type": "code",
   "execution_count": 23,
   "metadata": {},
   "outputs": [],
   "source": [
    "truncatedPercentChanges = percentageChangesList[:-2000]"
   ]
  },
  {
   "cell_type": "code",
   "execution_count": 24,
   "metadata": {},
   "outputs": [],
   "source": [
    "truncatedDates = Date[:-2000]"
   ]
  },
  {
   "cell_type": "code",
   "execution_count": 25,
   "metadata": {},
   "outputs": [],
   "source": [
    "df1 = pd.DataFrame(\n",
    "    {'Date': truncatedDates,\n",
    "     'PercentageChanges': truncatedPercentChanges\n",
    "    })"
   ]
  },
  {
   "cell_type": "code",
   "execution_count": 26,
   "metadata": {},
   "outputs": [],
   "source": [
    "df1 = df1.iloc[::-1]"
   ]
  },
  {
   "cell_type": "code",
   "execution_count": 27,
   "metadata": {},
   "outputs": [
    {
     "data": {
      "text/plain": [
       "<matplotlib.axes._subplots.AxesSubplot at 0x25e42173668>"
      ]
     },
     "execution_count": 27,
     "metadata": {},
     "output_type": "execute_result"
    },
    {
     "data": {
      "image/png": "[encoded data removed]",
      "text/plain": [
       "<Figure size 432x288 with 1 Axes>"
      ]
     },
     "metadata": {},
     "output_type": "display_data"
    }
   ],
   "source": [
    "df1.plot(x = 'Date', y = 'PercentageChanges')"
   ]
  },
  {
   "cell_type": "code",
   "execution_count": 28,
   "metadata": {},
   "outputs": [],
   "source": [
    "mean = np.mean(truncatedPercentChanges)"
   ]
  },
  {
   "cell_type": "code",
   "execution_count": 29,
   "metadata": {},
   "outputs": [],
   "source": [
    "std = np.std(truncatedPercentChanges)"
   ]
  },
  {
   "cell_type": "code",
   "execution_count": 30,
   "metadata": {},
   "outputs": [
    {
     "data": {
      "text/plain": [
       "0.3022197482169435"
      ]
     },
     "execution_count": 30,
     "metadata": {},
     "output_type": "execute_result"
    }
   ],
   "source": [
    "mean"
   ]
  },
  {
   "cell_type": "code",
   "execution_count": 31,
   "metadata": {},
   "outputs": [
    {
     "data": {
      "text/plain": [
       "2.427990498785862"
      ]
     },
     "execution_count": 31,
     "metadata": {},
     "output_type": "execute_result"
    }
   ],
   "source": [
    "std"
   ]
  },
  {
   "cell_type": "code",
   "execution_count": 32,
   "metadata": {},
   "outputs": [],
   "source": [
    "numberOfDays = len(truncatedDates)"
   ]
  },
  {
   "cell_type": "code",
   "execution_count": 33,
   "metadata": {},
   "outputs": [
    {
     "data": {
      "text/plain": [
       "3249"
      ]
     },
     "execution_count": 33,
     "metadata": {},
     "output_type": "execute_result"
    }
   ],
   "source": [
    "numberOfDays"
   ]
  },
  {
   "cell_type": "code",
   "execution_count": 34,
   "metadata": {},
   "outputs": [],
   "source": [
    "df2 = df1.loc[df1['PercentageChanges'] < -4]"
   ]
  },
  {
   "cell_type": "code",
   "execution_count": 35,
   "metadata": {},
   "outputs": [
    {
     "data": {
      "text/plain": [
       "148"
      ]
     },
     "execution_count": 35,
     "metadata": {},
     "output_type": "execute_result"
    }
   ],
   "source": [
    "len(df2)"
   ]
  },
  {
   "cell_type": "code",
   "execution_count": 36,
   "metadata": {},
   "outputs": [],
   "source": [
    "averageNumberOfAlertsPerMonth = (len(df2)/numberOfDays)*30"
   ]
  },
  {
   "cell_type": "code",
   "execution_count": 37,
   "metadata": {},
   "outputs": [
    {
     "data": {
      "text/plain": [
       "1.3665743305632503"
      ]
     },
     "execution_count": 37,
     "metadata": {},
     "output_type": "execute_result"
    }
   ],
   "source": [
    "averageNumberOfAlertsPerMonth"
   ]
  }
 ],
 "metadata": {
  "kernelspec": {
   "display_name": "Python 3",
   "language": "python",
   "name": "python3"
  },
  "language_info": {
   "codemirror_mode": {
    "name": "ipython",
    "version": 3
   },
   "file_extension": ".py",
   "mimetype": "text/x-python",
   "name": "python",
   "nbconvert_exporter": "python",
   "pygments_lexer": "ipython3",
   "version": "3.6.5"
  }
 },
 "nbformat": 4,
 "nbformat_minor": 2
}
